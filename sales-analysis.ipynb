{
 "cells": [
  {
   "cell_type": "code",
   "execution_count": 1,
   "metadata": {},
   "outputs": [
    {
     "data": {
      "text/html": [
       "<div>\n",
       "<style>\n",
       "    .dataframe thead tr:only-child th {\n",
       "        text-align: right;\n",
       "    }\n",
       "\n",
       "    .dataframe thead th {\n",
       "        text-align: left;\n",
       "    }\n",
       "\n",
       "    .dataframe tbody tr th {\n",
       "        vertical-align: top;\n",
       "    }\n",
       "</style>\n",
       "<table border=\"1\" class=\"dataframe\">\n",
       "  <thead>\n",
       "    <tr style=\"text-align: right;\">\n",
       "      <th></th>\n",
       "      <th>购药时间</th>\n",
       "      <th>社保卡号</th>\n",
       "      <th>商品编码</th>\n",
       "      <th>商品名称</th>\n",
       "      <th>销售数量</th>\n",
       "      <th>应收金额</th>\n",
       "      <th>实收金额</th>\n",
       "    </tr>\n",
       "  </thead>\n",
       "  <tbody>\n",
       "    <tr>\n",
       "      <th>0</th>\n",
       "      <td>2018-01-01 星期五</td>\n",
       "      <td>001616528</td>\n",
       "      <td>236701</td>\n",
       "      <td>强力VC银翘片</td>\n",
       "      <td>6</td>\n",
       "      <td>82.8</td>\n",
       "      <td>69</td>\n",
       "    </tr>\n",
       "    <tr>\n",
       "      <th>1</th>\n",
       "      <td>2018-01-02 星期六</td>\n",
       "      <td>001616528</td>\n",
       "      <td>236701</td>\n",
       "      <td>清热解毒口服液</td>\n",
       "      <td>1</td>\n",
       "      <td>28</td>\n",
       "      <td>24.64</td>\n",
       "    </tr>\n",
       "    <tr>\n",
       "      <th>2</th>\n",
       "      <td>2018-01-06 星期三</td>\n",
       "      <td>0012602828</td>\n",
       "      <td>236701</td>\n",
       "      <td>感康</td>\n",
       "      <td>2</td>\n",
       "      <td>16.8</td>\n",
       "      <td>15</td>\n",
       "    </tr>\n",
       "    <tr>\n",
       "      <th>3</th>\n",
       "      <td>2018-01-11 星期一</td>\n",
       "      <td>0010070343428</td>\n",
       "      <td>236701</td>\n",
       "      <td>三九感冒灵</td>\n",
       "      <td>1</td>\n",
       "      <td>28</td>\n",
       "      <td>28</td>\n",
       "    </tr>\n",
       "    <tr>\n",
       "      <th>4</th>\n",
       "      <td>2018-01-15 星期五</td>\n",
       "      <td>00101554328</td>\n",
       "      <td>236701</td>\n",
       "      <td>三九感冒灵</td>\n",
       "      <td>8</td>\n",
       "      <td>224</td>\n",
       "      <td>208</td>\n",
       "    </tr>\n",
       "  </tbody>\n",
       "</table>\n",
       "</div>"
      ],
      "text/plain": [
       "             购药时间           社保卡号    商品编码     商品名称 销售数量  应收金额   实收金额\n",
       "0  2018-01-01 星期五      001616528  236701  强力VC银翘片    6  82.8     69\n",
       "1  2018-01-02 星期六      001616528  236701  清热解毒口服液    1    28  24.64\n",
       "2  2018-01-06 星期三     0012602828  236701       感康    2  16.8     15\n",
       "3  2018-01-11 星期一  0010070343428  236701    三九感冒灵    1    28     28\n",
       "4  2018-01-15 星期五    00101554328  236701    三九感冒灵    8   224    208"
      ]
     },
     "execution_count": 1,
     "metadata": {},
     "output_type": "execute_result"
    }
   ],
   "source": [
    "import numpy as np\n",
    "import pandas as pd\n",
    "#读取Excel数据，统一先按照字符串读入，之后转换\n",
    "file='./朝阳医院2018年销售数据.xlsx'\n",
    "xls = pd.ExcelFile(file, dtype='object')\n",
    "salesDf = xls.parse('Sheet1',dtype='object')\n",
    "#打印出前5行，以确保数据运行正常\n",
    "salesDf.head()\n"
   ]
  },
  {
   "cell_type": "code",
   "execution_count": 2,
   "metadata": {},
   "outputs": [
    {
     "data": {
      "text/plain": [
       "购药时间    object\n",
       "社保卡号    object\n",
       "商品编码    object\n",
       "商品名称    object\n",
       "销售数量    object\n",
       "应收金额    object\n",
       "实收金额    object\n",
       "dtype: object"
      ]
     },
     "execution_count": 2,
     "metadata": {},
     "output_type": "execute_result"
    }
   ],
   "source": [
    "salesDf.shape\n",
    "salesDf.dtypes"
   ]
  },
  {
   "cell_type": "code",
   "execution_count": 3,
   "metadata": {},
   "outputs": [
    {
     "data": {
      "text/html": [
       "<div>\n",
       "<style>\n",
       "    .dataframe thead tr:only-child th {\n",
       "        text-align: right;\n",
       "    }\n",
       "\n",
       "    .dataframe thead th {\n",
       "        text-align: left;\n",
       "    }\n",
       "\n",
       "    .dataframe tbody tr th {\n",
       "        vertical-align: top;\n",
       "    }\n",
       "</style>\n",
       "<table border=\"1\" class=\"dataframe\">\n",
       "  <thead>\n",
       "    <tr style=\"text-align: right;\">\n",
       "      <th></th>\n",
       "      <th>销售时间</th>\n",
       "      <th>社保卡号</th>\n",
       "      <th>商品编码</th>\n",
       "      <th>商品名称</th>\n",
       "      <th>销售数量</th>\n",
       "      <th>应收金额</th>\n",
       "      <th>实收金额</th>\n",
       "    </tr>\n",
       "  </thead>\n",
       "  <tbody>\n",
       "    <tr>\n",
       "      <th>0</th>\n",
       "      <td>2018-01-01 星期五</td>\n",
       "      <td>001616528</td>\n",
       "      <td>236701</td>\n",
       "      <td>强力VC银翘片</td>\n",
       "      <td>6</td>\n",
       "      <td>82.8</td>\n",
       "      <td>69</td>\n",
       "    </tr>\n",
       "    <tr>\n",
       "      <th>1</th>\n",
       "      <td>2018-01-02 星期六</td>\n",
       "      <td>001616528</td>\n",
       "      <td>236701</td>\n",
       "      <td>清热解毒口服液</td>\n",
       "      <td>1</td>\n",
       "      <td>28</td>\n",
       "      <td>24.64</td>\n",
       "    </tr>\n",
       "    <tr>\n",
       "      <th>2</th>\n",
       "      <td>2018-01-06 星期三</td>\n",
       "      <td>0012602828</td>\n",
       "      <td>236701</td>\n",
       "      <td>感康</td>\n",
       "      <td>2</td>\n",
       "      <td>16.8</td>\n",
       "      <td>15</td>\n",
       "    </tr>\n",
       "    <tr>\n",
       "      <th>3</th>\n",
       "      <td>2018-01-11 星期一</td>\n",
       "      <td>0010070343428</td>\n",
       "      <td>236701</td>\n",
       "      <td>三九感冒灵</td>\n",
       "      <td>1</td>\n",
       "      <td>28</td>\n",
       "      <td>28</td>\n",
       "    </tr>\n",
       "    <tr>\n",
       "      <th>4</th>\n",
       "      <td>2018-01-15 星期五</td>\n",
       "      <td>00101554328</td>\n",
       "      <td>236701</td>\n",
       "      <td>三九感冒灵</td>\n",
       "      <td>8</td>\n",
       "      <td>224</td>\n",
       "      <td>208</td>\n",
       "    </tr>\n",
       "  </tbody>\n",
       "</table>\n",
       "</div>"
      ],
      "text/plain": [
       "             销售时间           社保卡号    商品编码     商品名称 销售数量  应收金额   实收金额\n",
       "0  2018-01-01 星期五      001616528  236701  强力VC银翘片    6  82.8     69\n",
       "1  2018-01-02 星期六      001616528  236701  清热解毒口服液    1    28  24.64\n",
       "2  2018-01-06 星期三     0012602828  236701       感康    2  16.8     15\n",
       "3  2018-01-11 星期一  0010070343428  236701    三九感冒灵    1    28     28\n",
       "4  2018-01-15 星期五    00101554328  236701    三九感冒灵    8   224    208"
      ]
     },
     "execution_count": 3,
     "metadata": {},
     "output_type": "execute_result"
    }
   ],
   "source": [
    "colNameDict = {'购药时间':'销售时间'}\n",
    "salesDf.rename(columns = colNameDict,inplace=True)\n",
    "salesDf.head()"
   ]
  },
  {
   "cell_type": "code",
   "execution_count": 4,
   "metadata": {},
   "outputs": [
    {
     "name": "stdout",
     "output_type": "stream",
     "text": [
      "删除缺失后大小 (6575, 7)\n"
     ]
    }
   ],
   "source": [
    "salesDf=salesDf.dropna(subset=['销售时间','社保卡号'],how='any')\n",
    "print('删除缺失后大小',salesDf.shape)"
   ]
  },
  {
   "cell_type": "code",
   "execution_count": 5,
   "metadata": {
    "collapsed": true
   },
   "outputs": [],
   "source": [
    "#字符串转换为数值（浮点型）\n",
    "salesDf['销售数量'] = salesDf['销售数量'].astype('float')\n",
    "salesDf['应收金额'] = salesDf['应收金额'].astype('float')\n",
    "salesDf['实收金额'] = salesDf['实收金额'].astype('float')"
   ]
  },
  {
   "cell_type": "code",
   "execution_count": 7,
   "metadata": {},
   "outputs": [],
   "source": [
    "def splitSaletime(timeColSer):\n",
    "    timeList=[]\n",
    "    for value in timeColSer:\n",
    "        #例如2018-01-01 星期五，分割后为：2018-01-01\n",
    "        dateStr=value.split(' ')[0]\n",
    "        timeList.append(dateStr)\n",
    "    \n",
    "    #将列表转行为一维数据Series类型\n",
    "    timeSer=pd.Series(timeList)\n",
    "    return timeSer"
   ]
  },
  {
   "cell_type": "code",
   "execution_count": 8,
   "metadata": {},
   "outputs": [
    {
     "data": {
      "text/plain": [
       "销售时间    datetime64[ns]\n",
       "社保卡号            object\n",
       "商品编码            object\n",
       "商品名称            object\n",
       "销售数量           float64\n",
       "应收金额           float64\n",
       "实收金额           float64\n",
       "dtype: object"
      ]
     },
     "execution_count": 8,
     "metadata": {},
     "output_type": "execute_result"
    }
   ],
   "source": [
    "timeSer=salesDf.loc[:,'销售时间']\n",
    "dateSer=splitSaletime(timeSer)\n",
    "salesDf.loc[:,'销售时间']=dateSer\n",
    "\n",
    "'''\n",
    "数据类型转换:字符串转换为日期\n",
    "'''\n",
    "#errors='coerce' 如果原始数据不符合日期的格式，转换后的值为空值NaT\n",
    "#format 是你原始数据中日期的格式\n",
    "salesDf.loc[:,'销售时间']=pd.to_datetime(salesDf.loc[:,'销售时间'],\n",
    "                                    format='%Y-%m-%d', \n",
    "                                    errors='coerce')\n",
    "\n",
    "salesDf.dtypes"
   ]
  },
  {
   "cell_type": "code",
   "execution_count": 9,
   "metadata": {
    "collapsed": true
   },
   "outputs": [],
   "source": [
    "'''\n",
    "转换日期过程中不符合日期格式的数值会被转换为空值，\n",
    "这里删除列（销售时间，社保卡号）中为空的行\n",
    "'''\n",
    "salesDf=salesDf.dropna(subset=['销售时间','社保卡号'],how='any')\n"
   ]
  },
  {
   "cell_type": "code",
   "execution_count": 10,
   "metadata": {},
   "outputs": [
    {
     "data": {
      "text/html": [
       "<div>\n",
       "<style>\n",
       "    .dataframe thead tr:only-child th {\n",
       "        text-align: right;\n",
       "    }\n",
       "\n",
       "    .dataframe thead th {\n",
       "        text-align: left;\n",
       "    }\n",
       "\n",
       "    .dataframe tbody tr th {\n",
       "        vertical-align: top;\n",
       "    }\n",
       "</style>\n",
       "<table border=\"1\" class=\"dataframe\">\n",
       "  <thead>\n",
       "    <tr style=\"text-align: right;\">\n",
       "      <th></th>\n",
       "      <th>销售时间</th>\n",
       "      <th>社保卡号</th>\n",
       "      <th>商品编码</th>\n",
       "      <th>商品名称</th>\n",
       "      <th>销售数量</th>\n",
       "      <th>应收金额</th>\n",
       "      <th>实收金额</th>\n",
       "    </tr>\n",
       "  </thead>\n",
       "  <tbody>\n",
       "    <tr>\n",
       "      <th>0</th>\n",
       "      <td>2018-01-01</td>\n",
       "      <td>001616528</td>\n",
       "      <td>236701</td>\n",
       "      <td>强力VC银翘片</td>\n",
       "      <td>6.0</td>\n",
       "      <td>82.8</td>\n",
       "      <td>69.0</td>\n",
       "    </tr>\n",
       "    <tr>\n",
       "      <th>1</th>\n",
       "      <td>2018-01-01</td>\n",
       "      <td>0010616728</td>\n",
       "      <td>865099</td>\n",
       "      <td>硝苯地平片(心痛定)</td>\n",
       "      <td>2.0</td>\n",
       "      <td>3.4</td>\n",
       "      <td>3.0</td>\n",
       "    </tr>\n",
       "    <tr>\n",
       "      <th>2</th>\n",
       "      <td>2018-01-01</td>\n",
       "      <td>0010073966328</td>\n",
       "      <td>861409</td>\n",
       "      <td>非洛地平缓释片(波依定)</td>\n",
       "      <td>5.0</td>\n",
       "      <td>162.5</td>\n",
       "      <td>145.0</td>\n",
       "    </tr>\n",
       "    <tr>\n",
       "      <th>3</th>\n",
       "      <td>2018-01-01</td>\n",
       "      <td>0010073966328</td>\n",
       "      <td>866634</td>\n",
       "      <td>硝苯地平控释片(欣然)</td>\n",
       "      <td>6.0</td>\n",
       "      <td>111.0</td>\n",
       "      <td>92.5</td>\n",
       "    </tr>\n",
       "    <tr>\n",
       "      <th>4</th>\n",
       "      <td>2018-01-01</td>\n",
       "      <td>0010014289328</td>\n",
       "      <td>866851</td>\n",
       "      <td>缬沙坦分散片(易达乐)</td>\n",
       "      <td>1.0</td>\n",
       "      <td>26.0</td>\n",
       "      <td>23.0</td>\n",
       "    </tr>\n",
       "  </tbody>\n",
       "</table>\n",
       "</div>"
      ],
      "text/plain": [
       "        销售时间           社保卡号    商品编码          商品名称  销售数量   应收金额   实收金额\n",
       "0 2018-01-01      001616528  236701       强力VC银翘片   6.0   82.8   69.0\n",
       "1 2018-01-01     0010616728  865099    硝苯地平片(心痛定)   2.0    3.4    3.0\n",
       "2 2018-01-01  0010073966328  861409  非洛地平缓释片(波依定)   5.0  162.5  145.0\n",
       "3 2018-01-01  0010073966328  866634   硝苯地平控释片(欣然)   6.0  111.0   92.5\n",
       "4 2018-01-01  0010014289328  866851   缬沙坦分散片(易达乐)   1.0   26.0   23.0"
      ]
     },
     "execution_count": 10,
     "metadata": {},
     "output_type": "execute_result"
    }
   ],
   "source": [
    "'''\n",
    "by：按那几列排序\n",
    "ascending=True 表示降序排列，\n",
    "ascending=False表示升序排列\n",
    "'''\n",
    "#按销售日期进行升序排列\n",
    "salesDf=salesDf.sort_values(by='销售时间',ascending=True)\n",
    "\n",
    "#重命名行名（index）：排序后的列索引值是之前的行号，需要修改成从0到N按顺序的索引值\n",
    "salesDf=salesDf.reset_index(drop=True)\n",
    "salesDf.head()"
   ]
  },
  {
   "cell_type": "code",
   "execution_count": 11,
   "metadata": {},
   "outputs": [
    {
     "data": {
      "text/html": [
       "<div>\n",
       "<style>\n",
       "    .dataframe thead tr:only-child th {\n",
       "        text-align: right;\n",
       "    }\n",
       "\n",
       "    .dataframe thead th {\n",
       "        text-align: left;\n",
       "    }\n",
       "\n",
       "    .dataframe tbody tr th {\n",
       "        vertical-align: top;\n",
       "    }\n",
       "</style>\n",
       "<table border=\"1\" class=\"dataframe\">\n",
       "  <thead>\n",
       "    <tr style=\"text-align: right;\">\n",
       "      <th></th>\n",
       "      <th>销售数量</th>\n",
       "      <th>应收金额</th>\n",
       "      <th>实收金额</th>\n",
       "    </tr>\n",
       "  </thead>\n",
       "  <tbody>\n",
       "    <tr>\n",
       "      <th>count</th>\n",
       "      <td>6549.000000</td>\n",
       "      <td>6549.000000</td>\n",
       "      <td>6549.000000</td>\n",
       "    </tr>\n",
       "    <tr>\n",
       "      <th>mean</th>\n",
       "      <td>2.384486</td>\n",
       "      <td>50.449076</td>\n",
       "      <td>46.284370</td>\n",
       "    </tr>\n",
       "    <tr>\n",
       "      <th>std</th>\n",
       "      <td>2.375227</td>\n",
       "      <td>87.696401</td>\n",
       "      <td>81.058426</td>\n",
       "    </tr>\n",
       "    <tr>\n",
       "      <th>min</th>\n",
       "      <td>-10.000000</td>\n",
       "      <td>-374.000000</td>\n",
       "      <td>-374.000000</td>\n",
       "    </tr>\n",
       "    <tr>\n",
       "      <th>25%</th>\n",
       "      <td>1.000000</td>\n",
       "      <td>14.000000</td>\n",
       "      <td>12.320000</td>\n",
       "    </tr>\n",
       "    <tr>\n",
       "      <th>50%</th>\n",
       "      <td>2.000000</td>\n",
       "      <td>28.000000</td>\n",
       "      <td>26.500000</td>\n",
       "    </tr>\n",
       "    <tr>\n",
       "      <th>75%</th>\n",
       "      <td>2.000000</td>\n",
       "      <td>59.600000</td>\n",
       "      <td>53.000000</td>\n",
       "    </tr>\n",
       "    <tr>\n",
       "      <th>max</th>\n",
       "      <td>50.000000</td>\n",
       "      <td>2950.000000</td>\n",
       "      <td>2650.000000</td>\n",
       "    </tr>\n",
       "  </tbody>\n",
       "</table>\n",
       "</div>"
      ],
      "text/plain": [
       "              销售数量         应收金额         实收金额\n",
       "count  6549.000000  6549.000000  6549.000000\n",
       "mean      2.384486    50.449076    46.284370\n",
       "std       2.375227    87.696401    81.058426\n",
       "min     -10.000000  -374.000000  -374.000000\n",
       "25%       1.000000    14.000000    12.320000\n",
       "50%       2.000000    28.000000    26.500000\n",
       "75%       2.000000    59.600000    53.000000\n",
       "max      50.000000  2950.000000  2650.000000"
      ]
     },
     "execution_count": 11,
     "metadata": {},
     "output_type": "execute_result"
    }
   ],
   "source": [
    "salesDf.describe()"
   ]
  },
  {
   "cell_type": "code",
   "execution_count": 16,
   "metadata": {},
   "outputs": [
    {
     "name": "stdout",
     "output_type": "stream",
     "text": [
      "删除异常值前： (6506, 7)\n",
      "删除异常值后： (6506, 7)\n"
     ]
    },
    {
     "data": {
      "text/html": [
       "<div>\n",
       "<style>\n",
       "    .dataframe thead tr:only-child th {\n",
       "        text-align: right;\n",
       "    }\n",
       "\n",
       "    .dataframe thead th {\n",
       "        text-align: left;\n",
       "    }\n",
       "\n",
       "    .dataframe tbody tr th {\n",
       "        vertical-align: top;\n",
       "    }\n",
       "</style>\n",
       "<table border=\"1\" class=\"dataframe\">\n",
       "  <thead>\n",
       "    <tr style=\"text-align: right;\">\n",
       "      <th></th>\n",
       "      <th>销售数量</th>\n",
       "      <th>应收金额</th>\n",
       "      <th>实收金额</th>\n",
       "    </tr>\n",
       "  </thead>\n",
       "  <tbody>\n",
       "    <tr>\n",
       "      <th>count</th>\n",
       "      <td>6506.000000</td>\n",
       "      <td>6506.000000</td>\n",
       "      <td>6506.000000</td>\n",
       "    </tr>\n",
       "    <tr>\n",
       "      <th>mean</th>\n",
       "      <td>2.405626</td>\n",
       "      <td>50.927897</td>\n",
       "      <td>46.727653</td>\n",
       "    </tr>\n",
       "    <tr>\n",
       "      <th>std</th>\n",
       "      <td>2.364565</td>\n",
       "      <td>87.650282</td>\n",
       "      <td>80.997726</td>\n",
       "    </tr>\n",
       "    <tr>\n",
       "      <th>min</th>\n",
       "      <td>1.000000</td>\n",
       "      <td>1.200000</td>\n",
       "      <td>0.030000</td>\n",
       "    </tr>\n",
       "    <tr>\n",
       "      <th>25%</th>\n",
       "      <td>1.000000</td>\n",
       "      <td>14.000000</td>\n",
       "      <td>12.600000</td>\n",
       "    </tr>\n",
       "    <tr>\n",
       "      <th>50%</th>\n",
       "      <td>2.000000</td>\n",
       "      <td>28.000000</td>\n",
       "      <td>27.000000</td>\n",
       "    </tr>\n",
       "    <tr>\n",
       "      <th>75%</th>\n",
       "      <td>2.000000</td>\n",
       "      <td>59.600000</td>\n",
       "      <td>53.000000</td>\n",
       "    </tr>\n",
       "    <tr>\n",
       "      <th>max</th>\n",
       "      <td>50.000000</td>\n",
       "      <td>2950.000000</td>\n",
       "      <td>2650.000000</td>\n",
       "    </tr>\n",
       "  </tbody>\n",
       "</table>\n",
       "</div>"
      ],
      "text/plain": [
       "              销售数量         应收金额         实收金额\n",
       "count  6506.000000  6506.000000  6506.000000\n",
       "mean      2.405626    50.927897    46.727653\n",
       "std       2.364565    87.650282    80.997726\n",
       "min       1.000000     1.200000     0.030000\n",
       "25%       1.000000    14.000000    12.600000\n",
       "50%       2.000000    28.000000    27.000000\n",
       "75%       2.000000    59.600000    53.000000\n",
       "max      50.000000  2950.000000  2650.000000"
      ]
     },
     "execution_count": 16,
     "metadata": {},
     "output_type": "execute_result"
    }
   ],
   "source": [
    "#删除异常值：通过条件判断筛选出数据\n",
    "#查询条件\n",
    "querySer=salesDf.loc[:,'销售数量']>0\n",
    "#应用查询条件\n",
    "print('删除异常值前：',salesDf.shape)\n",
    "salesDf=salesDf.loc[querySer,:]\n",
    "print('删除异常值后：',salesDf.shape)"
   ]
  },
  {
   "cell_type": "code",
   "execution_count": 24,
   "metadata": {},
   "outputs": [
    {
     "name": "stdout",
     "output_type": "stream",
     "text": [
      "总消费次数= 5342\n",
      "163\n",
      "月份数： 6\n",
      "业务指标1：月均消费次数= 890\n"
     ]
    }
   ],
   "source": [
    "'''\n",
    "总消费次数：同一天内，同一个人发生的所有消费算作一次消费\n",
    "#根据列名（销售时间，社区卡号），如果这两个列值同时相同，只保留1条，将重复的数据删除\n",
    "'''\n",
    "\n",
    "kpi1_Df=salesDf.drop_duplicates(subset=['销售时间', '社保卡号'])\n",
    "\n",
    "#总消费次数：有多少行\n",
    "totalI=kpi1_Df.shape[0]\n",
    "\n",
    "print('总消费次数=',totalI)\n",
    "\n",
    "\n",
    "#月份数,运算符\"//\"表示取整除，返回商的整数部分\n",
    "startTime=kpi1_Df.loc[0,'销售时间']\n",
    "endTime=kpi1_Df.loc[totalI-1,'销售时间']\n",
    "daysI=(endTime-startTime).days\n",
    "monthsI=daysI//30\n",
    "remain = daysI - 30 * monthsI\n",
    "if(remain > 0):\n",
    "    monthsI = monthsI + 1\n",
    "print('月份数：',monthsI)\n",
    "\n",
    "\n",
    "#业务指标1：月均消费次数=总消费次数 / 月份数\n",
    "kpi1_I=totalI // monthsI\n",
    "print('业务指标1：月均消费次数=',kpi1_I)"
   ]
  },
  {
   "cell_type": "code",
   "execution_count": 25,
   "metadata": {},
   "outputs": [
    {
     "name": "stdout",
     "output_type": "stream",
     "text": [
      "业务指标2：月均消费金额= 50668.351666666305\n"
     ]
    }
   ],
   "source": [
    "totalMoneyF=salesDf.loc[:,'实收金额'].sum()\n",
    "#月均消费金额\n",
    "monthMoneyF=totalMoneyF / monthsI\n",
    "print('业务指标2：月均消费金额=',monthMoneyF)"
   ]
  },
  {
   "cell_type": "code",
   "execution_count": 26,
   "metadata": {},
   "outputs": [
    {
     "name": "stdout",
     "output_type": "stream",
     "text": [
      "客单价： 56.9094178210404\n"
     ]
    }
   ],
   "source": [
    "'''\n",
    "totalMoneyF：总消费金额\n",
    "totalI：总消费次数\n",
    "'''\n",
    "pct=totalMoneyF / totalI\n",
    "print('客单价：',pct)"
   ]
  },
  {
   "cell_type": "code",
   "execution_count": null,
   "metadata": {
    "collapsed": true
   },
   "outputs": [],
   "source": []
  }
 ],
 "metadata": {
  "kernelspec": {
   "display_name": "Python 3",
   "language": "python",
   "name": "python3"
  },
  "language_info": {
   "codemirror_mode": {
    "name": "ipython",
    "version": 3
   },
   "file_extension": ".py",
   "mimetype": "text/x-python",
   "name": "python",
   "nbconvert_exporter": "python",
   "pygments_lexer": "ipython3",
   "version": "3.6.1"
  }
 },
 "nbformat": 4,
 "nbformat_minor": 2
}
